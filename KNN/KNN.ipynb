{
 "cells": [
  {
   "cell_type": "code",
   "execution_count": 1,
   "metadata": {},
   "outputs": [],
   "source": [
    "#Importing the necessary libraries\n",
    "from sklearn import datasets\n",
    "from collections import Counter\n",
    "from sklearn.model_selection import cross_val_score\n",
    "from sklearn.metrics import accuracy_score\n",
    "from sklearn.model_selection import train_test_split\n",
    "from sklearn import neighbors\n",
    "import matplotlib.pyplot as plt\n",
    "import numpy as np\n",
    "from sklearn.metrics import confusion_matrix \n",
    "import seaborn as sns\n"
   ]
  },
  {
   "cell_type": "code",
   "execution_count": 2,
   "metadata": {},
   "outputs": [],
   "source": [
    "#Importing the dataset\n",
    "dataset = datasets.load_breast_cancer()\n",
    "X = dataset['data']\n",
    "Y = dataset['target']\n"
   ]
  },
  {
   "cell_type": "code",
   "execution_count": 3,
   "metadata": {},
   "outputs": [
    {
     "data": {
      "text/plain": [
       "((569, 30), (569,))"
      ]
     },
     "execution_count": 3,
     "metadata": {},
     "output_type": "execute_result"
    }
   ],
   "source": [
    "#Checking for shapes of X and Y\n",
    "X.shape, Y.shape\n"
   ]
  },
  {
   "cell_type": "code",
   "execution_count": 4,
   "metadata": {},
   "outputs": [
    {
     "name": "stdout",
     "output_type": "stream",
     "text": [
      "(398, 30) (398,) (171, 30) (171,)\n"
     ]
    }
   ],
   "source": [
    "#Splitting the data into training and testing data\n",
    "X_train, X_test, Y_train, Y_test = train_test_split(X,Y,test_size=0.3,random_state = 0)\n",
    "\n",
    "\n",
    "#Looking for the shapes\n",
    "print(X_train.shape, Y_train.shape, X_test.shape, Y_test.shape)\n"
   ]
  },
  {
   "cell_type": "markdown",
   "metadata": {},
   "source": [
    "# # implementing sklearn knn classifier "
   ]
  },
  {
   "cell_type": "code",
   "execution_count": 5,
   "metadata": {},
   "outputs": [
    {
     "name": "stdout",
     "output_type": "stream",
     "text": [
      "For inbuilt classifier, score is :  0.9473684210526315\n"
     ]
    }
   ],
   "source": [
    "clf = neighbors.KNeighborsClassifier()\n",
    "clf.fit(X_train, Y_train)\n",
    "Y_pred = clf.predict(X_test)\n",
    "accuracy = clf.score(X_test, Y_test)\n",
    "print('For inbuilt classifier, score is : ', accuracy)\n"
   ]
  },
  {
   "cell_type": "code",
   "execution_count": 6,
   "metadata": {},
   "outputs": [
    {
     "data": {
      "text/plain": [
       "Text(91.68,0.5,'Predicted_label')"
      ]
     },
     "execution_count": 6,
     "metadata": {},
     "output_type": "execute_result"
    },
    {
     "data": {
      "image/png": "[encoded data removed]",
      "text/plain": [
       "<matplotlib.figure.Figure at 0x1bc21bd2d68>"
      ]
     },
     "metadata": {},
     "output_type": "display_data"
    }
   ],
   "source": [
    "M = confusion_matrix(Y_test,Y_pred)\n",
    "labels = np.unique(Y)\n",
    "sns.heatmap(M.T, square = True, annot = True, fmt = 'd', cbar = False, xticklabels = labels, yticklabels = labels )\n",
    "plt.xlabel('True_label')\n",
    "plt.ylabel('Predicted_label')\n"
   ]
  },
  {
   "cell_type": "markdown",
   "metadata": {},
   "source": [
    "# Implementing our own knn classifier \n",
    "\n",
    "step1 -> find the optimal value of k \n",
    "step2 -> find the k nearest points of testing data \n",
    "step3 -> find the most common class out of those k points"
   ]
  },
  {
   "cell_type": "code",
   "execution_count": 7,
   "metadata": {},
   "outputs": [],
   "source": [
    "#finding the optimal k using cross validation\n",
    "#fit function will return the optimal value of k\n",
    "\n",
    "kvsscore = []\n",
    "def fit(X_train, Y_train):\n",
    "    score_max = 0\n",
    "    for i in range(1,30,2):\n",
    "        clf = neighbors.KNeighborsClassifier(n_neighbors = i)\n",
    "        score = cross_val_score(clf,X_train, Y_train)\n",
    "        avg_score = score.mean()\n",
    "        kvsscore.append([i,avg_score])\n",
    "        if(avg_score > score_max):\n",
    "            k = i\n",
    "            score_max = avg_score\n",
    "            \n",
    "    #displaying variation of score with k\n",
    "    array = np.array(kvsscore)\n",
    "    X = np.array(array[:,0], dtype = 'int32')\n",
    "    Y = np.array(array[:,1])\n",
    "    plt.plot(X, Y, color='blue')\n",
    "    plt.show()\n",
    "    return k\n",
    "\n",
    "\n",
    "#prediction functions\n",
    "def predict_single_point(X_train,Y_train,point,k):\n",
    "    distances = []\n",
    "    for i in range(len(Y_train)):\n",
    "        distance = ((X_train[i,:] - point)**2).sum()\n",
    "        distances.append((distance,Y_train[i]))\n",
    "    distances = sorted(distances)\n",
    "    target = []\n",
    "    for i in range(k):\n",
    "        target.append(distances[i][1])\n",
    "    return Counter(target).most_common(1)[0][0]\n",
    "def predict(X_train,Y_train,X_test,k):\n",
    "    Y_pred = []\n",
    "    for point in X_test:\n",
    "        Y_pred.append(predict_single_point(X_train,Y_train,point,k))\n",
    "    return Y_pred\n"
   ]
  },
  {
   "cell_type": "code",
   "execution_count": 8,
   "metadata": {},
   "outputs": [
    {
     "data": {
      "image/png": "[encoded data removed]",
      "text/plain": [
       "<matplotlib.figure.Figure at 0x1bc21f28208>"
      ]
     },
     "metadata": {},
     "output_type": "display_data"
    },
    {
     "name": "stdout",
     "output_type": "stream",
     "text": [
      "Score in case of self-implemented KNN classifier is :  0.9532163742690059\n"
     ]
    },
    {
     "data": {
      "text/plain": [
       "Text(91.68,0.5,'Predicted_label')"
      ]
     },
     "execution_count": 8,
     "metadata": {},
     "output_type": "execute_result"
    },
    {
     "data": {
      "image/png": "[encoded data removed]",
      "text/plain": [
       "<matplotlib.figure.Figure at 0x1bc21fee358>"
      ]
     },
     "metadata": {},
     "output_type": "display_data"
    }
   ],
   "source": [
    "#predicting results\n",
    "k = fit(X_train, Y_train)\n",
    "Y_pred = predict(X_train, Y_train, X_test, k)\n",
    "score = accuracy_score(Y_test,Y_pred)\n",
    "print('Score in case of self-implemented KNN classifier is : ',score)\n",
    "\n",
    "#confusion matrix\n",
    "M = confusion_matrix(Y_test,Y_pred)\n",
    "labels = np.unique(Y)\n",
    "sns.heatmap(M.T, square = True, annot = True, fmt = 'd', cbar = False, xticklabels = labels, yticklabels = labels )\n",
    "plt.xlabel('True_label')\n",
    "plt.ylabel('Predicted_label')"
   ]
  }
 ],
 "metadata": {
  "kernelspec": {
   "display_name": "Python 3",
   "language": "python",
   "name": "python3"
  },
  "language_info": {
   "codemirror_mode": {
    "name": "ipython",
    "version": 3
   },
   "file_extension": ".py",
   "mimetype": "text/x-python",
   "name": "python",
   "nbconvert_exporter": "python",
   "pygments_lexer": "ipython3",
   "version": "3.6.4"
  }
 },
 "nbformat": 4,
 "nbformat_minor": 2
}
